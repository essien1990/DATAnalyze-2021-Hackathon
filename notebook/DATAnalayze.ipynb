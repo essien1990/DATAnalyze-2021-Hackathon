{
 "cells": [
  {
   "cell_type": "code",
   "execution_count": 167,
   "id": "4a591855-75d6-41bb-88da-99ef87179e55",
   "metadata": {},
   "outputs": [],
   "source": [
    "# loading libraries\n",
    "import pandas as pd\n",
    "import matplotlib.pyplot as plt\n",
    "import seaborn as sns\n",
    "sns.set_theme(style='darkgrid')"
   ]
  },
  {
   "cell_type": "code",
   "execution_count": 168,
   "id": "b9421268-e480-4269-aed2-e823a36ac79e",
   "metadata": {},
   "outputs": [],
   "source": [
    "# Loading datasets\n",
    "df1 = pd.read_excel('DIGITAL_ECONOMY_SOCIETY-GLOBAL.xlsx')\n",
    "df2 = pd.read_excel('HEALTH INDICATOR-GLOBAL.xlsx')\n",
    "df3 = pd.read_excel('HEALTH STATUS- GLOBAL.xlsx')"
   ]
  },
  {
   "cell_type": "code",
   "execution_count": 169,
   "id": "13ce6b0e",
   "metadata": {},
   "outputs": [],
   "source": [
    "# Removing columns (mostly single observation in these rows and others not necessary)\n",
    "df1.drop(['Super Region', 'Source', 'Information society indicator','Sub-Sector', 'Time Level', 'Sub-Sector Level 2', 'Sub-Sector Level 3'], axis=1, inplace=True)\n",
    "df2.drop(['Sub-Sector', 'Super Region', 'SOURCE ORGANIZATION', 'Indicator Name', 'Source', 'Special Notes', 'Region'], axis=1, inplace=True)\n",
    "df3.drop(['Sub-Sector', 'Super Region', 'Measure', 'Frequency', 'Source', 'Indicator'], axis=1, inplace=True)"
   ]
  },
  {
   "cell_type": "code",
   "execution_count": 170,
   "id": "74618b75",
   "metadata": {},
   "outputs": [],
   "source": [
    "# Digital dataset has records for three years. I filtered only these years so we have common datasets\n",
    "df2 = df2[df2['Date'].isin(list(df1['Date'].unique()))]\n",
    "df3 = df3[df3['Date'].isin(list(df1['Date'].unique()))]"
   ]
  },
  {
   "cell_type": "code",
   "execution_count": 171,
   "id": "3b8f48cb",
   "metadata": {},
   "outputs": [],
   "source": [
    "# Renamed the columns for merging\n",
    "df1.rename(columns={'Geopolitical entity (reporting)': 'Country Name'}, inplace=True)\n",
    "df3.rename(columns={'Region': 'Country Name'}, inplace=True)"
   ]
  },
  {
   "cell_type": "code",
   "execution_count": 178,
   "id": "fc934146",
   "metadata": {},
   "outputs": [],
   "source": [
    "# first merge of the column is based on Country Name. So we are working on Europeans countries only\n",
    "# second merge of the column is on Date. So the observations correspond to same dates on both datasets\n",
    "data = pd.merge(df1, df2,  how='inner', on=['Country Name', 'Date'], sort=True, suffixes=('_digital', '_health'))"
   ]
  },
  {
   "cell_type": "code",
   "execution_count": 177,
   "id": "127be633",
   "metadata": {},
   "outputs": [
    {
     "data": {
      "text/plain": [
       "Int64Index([2009, 2009, 2009, 2010, 2010, 2010, 2012, 2012, 2012, 2009,\n",
       "            ...\n",
       "            2010, 2010, 2012, 2012, 2009, 2009, 2010, 2010, 2012, 2012],\n",
       "           dtype='int64', name='Date', length=214)"
      ]
     },
     "execution_count": 177,
     "metadata": {},
     "output_type": "execute_result"
    }
   ],
   "source": [
    "pd.DatetimeIndex(data['Date']).year"
   ]
  },
  {
   "cell_type": "code",
   "execution_count": 179,
   "id": "54edb21e",
   "metadata": {},
   "outputs": [],
   "source": [
    "# Converted the date column to datetime object\n",
    "# Also converted all the dates to year since they are all reports of end of the year\n",
    "data['Date'] = pd.to_datetime(data['Date'])\n",
    "data['Date'] = pd.DatetimeIndex(data['Date']).year"
   ]
  },
  {
   "cell_type": "code",
   "execution_count": 199,
   "id": "f3d560a3",
   "metadata": {},
   "outputs": [],
   "source": [
    "# A lot of columns have similar data on several rows. So i grouped and aggregated them for visualisation\n",
    "data = data.groupby(['Country Name', 'Date', 'Individual type', 'Unit of measure', 'Income Group']).agg('mean')"
   ]
  },
  {
   "cell_type": "code",
   "execution_count": 204,
   "id": "8efb7530",
   "metadata": {},
   "outputs": [],
   "source": [
    "# saved clean data locally\n",
    "data.to_csv('clean_data.csv')"
   ]
  },
  {
   "cell_type": "code",
   "execution_count": 202,
   "id": "9cd5b1d2",
   "metadata": {},
   "outputs": [
    {
     "data": {
      "text/html": [
       "<div>\n",
       "<style scoped>\n",
       "    .dataframe tbody tr th:only-of-type {\n",
       "        vertical-align: middle;\n",
       "    }\n",
       "\n",
       "    .dataframe tbody tr th {\n",
       "        vertical-align: top;\n",
       "    }\n",
       "\n",
       "    .dataframe thead th {\n",
       "        text-align: right;\n",
       "    }\n",
       "</style>\n",
       "<table border=\"1\" class=\"dataframe\">\n",
       "  <thead>\n",
       "    <tr style=\"text-align: right;\">\n",
       "      <th></th>\n",
       "      <th></th>\n",
       "      <th></th>\n",
       "      <th></th>\n",
       "      <th></th>\n",
       "      <th>Value_digital</th>\n",
       "      <th>Value_health</th>\n",
       "    </tr>\n",
       "    <tr>\n",
       "      <th>Country Name</th>\n",
       "      <th>Date</th>\n",
       "      <th>Individual type</th>\n",
       "      <th>Unit of measure</th>\n",
       "      <th>Income Group</th>\n",
       "      <th></th>\n",
       "      <th></th>\n",
       "    </tr>\n",
       "  </thead>\n",
       "  <tbody>\n",
       "    <tr>\n",
       "      <th rowspan=\"5\" valign=\"top\">AUSTRIA</th>\n",
       "      <th rowspan=\"3\" valign=\"top\">2009</th>\n",
       "      <th rowspan=\"2\" valign=\"top\">ACTIVE LABOUR FORCE (EMPLOYED AND UNEMPLOYED)</th>\n",
       "      <th>PERCENTAGE OF INDIVIDUALS</th>\n",
       "      <th>HIGH INCOME</th>\n",
       "      <td>23.0</td>\n",
       "      <td>16.0</td>\n",
       "    </tr>\n",
       "    <tr>\n",
       "      <th>PERCENTAGE OF INDIVIDUALS WHO USED INTERNET IN THE LAST 3 MONTHS</th>\n",
       "      <th>HIGH INCOME</th>\n",
       "      <td>28.0</td>\n",
       "      <td>16.0</td>\n",
       "    </tr>\n",
       "    <tr>\n",
       "      <th>ALL INDIVIDUALS</th>\n",
       "      <th>PERCENTAGE OF INDIVIDUALS</th>\n",
       "      <th>HIGH INCOME</th>\n",
       "      <td>22.0</td>\n",
       "      <td>16.0</td>\n",
       "    </tr>\n",
       "    <tr>\n",
       "      <th rowspan=\"2\" valign=\"top\">2010</th>\n",
       "      <th rowspan=\"2\" valign=\"top\">ACTIVE LABOUR FORCE (EMPLOYED AND UNEMPLOYED)</th>\n",
       "      <th>PERCENTAGE OF INDIVIDUALS</th>\n",
       "      <th>HIGH INCOME</th>\n",
       "      <td>29.0</td>\n",
       "      <td>16.0</td>\n",
       "    </tr>\n",
       "    <tr>\n",
       "      <th>PERCENTAGE OF INDIVIDUALS WHO USED INTERNET IN THE LAST 3 MONTHS</th>\n",
       "      <th>HIGH INCOME</th>\n",
       "      <td>34.0</td>\n",
       "      <td>16.0</td>\n",
       "    </tr>\n",
       "    <tr>\n",
       "      <th>...</th>\n",
       "      <th>...</th>\n",
       "      <th>...</th>\n",
       "      <th>...</th>\n",
       "      <th>...</th>\n",
       "      <td>...</td>\n",
       "      <td>...</td>\n",
       "    </tr>\n",
       "    <tr>\n",
       "      <th rowspan=\"5\" valign=\"top\">UNITED KINGDOM</th>\n",
       "      <th>2009</th>\n",
       "      <th>ACTIVE LABOUR FORCE (EMPLOYED AND UNEMPLOYED)</th>\n",
       "      <th>PERCENTAGE OF INDIVIDUALS WHO USED INTERNET IN THE LAST 3 MONTHS</th>\n",
       "      <th>HIGH INCOME</th>\n",
       "      <td>42.0</td>\n",
       "      <td>8.0</td>\n",
       "    </tr>\n",
       "    <tr>\n",
       "      <th rowspan=\"2\" valign=\"top\">2010</th>\n",
       "      <th rowspan=\"2\" valign=\"top\">ACTIVE LABOUR FORCE (EMPLOYED AND UNEMPLOYED)</th>\n",
       "      <th>PERCENTAGE OF INDIVIDUALS</th>\n",
       "      <th>HIGH INCOME</th>\n",
       "      <td>39.0</td>\n",
       "      <td>7.8</td>\n",
       "    </tr>\n",
       "    <tr>\n",
       "      <th>PERCENTAGE OF INDIVIDUALS WHO USED INTERNET IN THE LAST 3 MONTHS</th>\n",
       "      <th>HIGH INCOME</th>\n",
       "      <td>43.0</td>\n",
       "      <td>7.8</td>\n",
       "    </tr>\n",
       "    <tr>\n",
       "      <th rowspan=\"2\" valign=\"top\">2012</th>\n",
       "      <th rowspan=\"2\" valign=\"top\">ACTIVE LABOUR FORCE (EMPLOYED AND UNEMPLOYED)</th>\n",
       "      <th>PERCENTAGE OF INDIVIDUALS</th>\n",
       "      <th>HIGH INCOME</th>\n",
       "      <td>61.0</td>\n",
       "      <td>8.2</td>\n",
       "    </tr>\n",
       "    <tr>\n",
       "      <th>PERCENTAGE OF INDIVIDUALS WHO USED INTERNET IN THE LAST 3 MONTHS</th>\n",
       "      <th>HIGH INCOME</th>\n",
       "      <td>66.0</td>\n",
       "      <td>8.2</td>\n",
       "    </tr>\n",
       "  </tbody>\n",
       "</table>\n",
       "<p>214 rows × 2 columns</p>\n",
       "</div>"
      ],
      "text/plain": [
       "                                                                                                                                   Value_digital  \\\n",
       "Country Name   Date Individual type                               Unit of measure                                    Income Group                  \n",
       "AUSTRIA        2009 ACTIVE LABOUR FORCE (EMPLOYED AND UNEMPLOYED) PERCENTAGE OF INDIVIDUALS                          HIGH INCOME            23.0   \n",
       "                                                                  PERCENTAGE OF INDIVIDUALS WHO USED INTERNET IN ... HIGH INCOME            28.0   \n",
       "                    ALL INDIVIDUALS                               PERCENTAGE OF INDIVIDUALS                          HIGH INCOME            22.0   \n",
       "               2010 ACTIVE LABOUR FORCE (EMPLOYED AND UNEMPLOYED) PERCENTAGE OF INDIVIDUALS                          HIGH INCOME            29.0   \n",
       "                                                                  PERCENTAGE OF INDIVIDUALS WHO USED INTERNET IN ... HIGH INCOME            34.0   \n",
       "...                                                                                                                                          ...   \n",
       "UNITED KINGDOM 2009 ACTIVE LABOUR FORCE (EMPLOYED AND UNEMPLOYED) PERCENTAGE OF INDIVIDUALS WHO USED INTERNET IN ... HIGH INCOME            42.0   \n",
       "               2010 ACTIVE LABOUR FORCE (EMPLOYED AND UNEMPLOYED) PERCENTAGE OF INDIVIDUALS                          HIGH INCOME            39.0   \n",
       "                                                                  PERCENTAGE OF INDIVIDUALS WHO USED INTERNET IN ... HIGH INCOME            43.0   \n",
       "               2012 ACTIVE LABOUR FORCE (EMPLOYED AND UNEMPLOYED) PERCENTAGE OF INDIVIDUALS                          HIGH INCOME            61.0   \n",
       "                                                                  PERCENTAGE OF INDIVIDUALS WHO USED INTERNET IN ... HIGH INCOME            66.0   \n",
       "\n",
       "                                                                                                                                   Value_health  \n",
       "Country Name   Date Individual type                               Unit of measure                                    Income Group                \n",
       "AUSTRIA        2009 ACTIVE LABOUR FORCE (EMPLOYED AND UNEMPLOYED) PERCENTAGE OF INDIVIDUALS                          HIGH INCOME           16.0  \n",
       "                                                                  PERCENTAGE OF INDIVIDUALS WHO USED INTERNET IN ... HIGH INCOME           16.0  \n",
       "                    ALL INDIVIDUALS                               PERCENTAGE OF INDIVIDUALS                          HIGH INCOME           16.0  \n",
       "               2010 ACTIVE LABOUR FORCE (EMPLOYED AND UNEMPLOYED) PERCENTAGE OF INDIVIDUALS                          HIGH INCOME           16.0  \n",
       "                                                                  PERCENTAGE OF INDIVIDUALS WHO USED INTERNET IN ... HIGH INCOME           16.0  \n",
       "...                                                                                                                                         ...  \n",
       "UNITED KINGDOM 2009 ACTIVE LABOUR FORCE (EMPLOYED AND UNEMPLOYED) PERCENTAGE OF INDIVIDUALS WHO USED INTERNET IN ... HIGH INCOME            8.0  \n",
       "               2010 ACTIVE LABOUR FORCE (EMPLOYED AND UNEMPLOYED) PERCENTAGE OF INDIVIDUALS                          HIGH INCOME            7.8  \n",
       "                                                                  PERCENTAGE OF INDIVIDUALS WHO USED INTERNET IN ... HIGH INCOME            7.8  \n",
       "               2012 ACTIVE LABOUR FORCE (EMPLOYED AND UNEMPLOYED) PERCENTAGE OF INDIVIDUALS                          HIGH INCOME            8.2  \n",
       "                                                                  PERCENTAGE OF INDIVIDUALS WHO USED INTERNET IN ... HIGH INCOME            8.2  \n",
       "\n",
       "[214 rows x 2 columns]"
      ]
     },
     "execution_count": 202,
     "metadata": {},
     "output_type": "execute_result"
    }
   ],
   "source": [
    "data"
   ]
  }
 ],
 "metadata": {
  "kernelspec": {
   "display_name": "Python 3 (ipykernel)",
   "language": "python",
   "name": "python3"
  },
  "language_info": {
   "codemirror_mode": {
    "name": "ipython",
    "version": 3
   },
   "file_extension": ".py",
   "mimetype": "text/x-python",
   "name": "python",
   "nbconvert_exporter": "python",
   "pygments_lexer": "ipython3",
   "version": "3.9.7"
  }
 },
 "nbformat": 4,
 "nbformat_minor": 5
}
